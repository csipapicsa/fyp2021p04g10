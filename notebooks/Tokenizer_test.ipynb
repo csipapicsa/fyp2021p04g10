{
 "cells": [
  {
   "cell_type": "code",
   "execution_count": null,
   "metadata": {},
   "outputs": [],
   "source": [
    "import re\n",
    "import difflib\n",
    "from nltk.tokenize import TweetTokenizer"
   ]
  },
  {
   "cell_type": "code",
   "execution_count": null,
   "metadata": {},
   "outputs": [],
   "source": [
    "f = open(\"../data/raw/offensive/train_text.txt\", 'r', encoding = \"utf-8\")\n",
    "inputlist = [line for line in f]\n",
    "f.close()\n",
    "\n",
    "training_data, validation_data = inputlist[:len(inputlist)//2], inputlist[len(inputlist)//2:]\n"
   ]
  },
  {
   "cell_type": "code",
   "execution_count": null,
   "metadata": {},
   "outputs": [],
   "source": [
    "#patterns\n",
    "token_pat = re.compile(r'\\w+')\n",
    "skippable_pat = re.compile(r'\\s+')\n",
    "\n",
    "unmatchable = []\n",
    "\n",
    "for i in training_data:\n",
    "\ttokens = []\n",
    "\tline = i\n",
    "\twhile line:\n",
    "\t\tskippable_match = re.search(skippable_pat, line)\n",
    "\t\tif skippable_match and skippable_match.start() == 0:\n",
    "\t\t\t# If there is one at the beginning of the line, just skip it.\n",
    "\t\t\tline = line[skippable_match.end():]\n",
    "\t\telse:\n",
    "\t\t\t# Else try finding a real token.\n",
    "\t\t\ttoken_match = re.search(token_pat, line)\n",
    "\t\t\tif token_match and token_match.start() == 0:\n",
    "\t\t\t\t# If there is one at the beginning of the line, tokenise it.\n",
    "\t\t\t\ttokens.append(line[:token_match.end()])\n",
    "\t\t\t\tline = line[token_match.end():]\n",
    "\t\t\telse:\n",
    "\t\t\t\t# Else there is unmatchable material here.\n",
    "\t\t\t\t# It ends where a skippable or token match starts, or at the end of the line.\n",
    "\t\t\t\tunmatchable_end = len(line)\n",
    "\t\t\t\tif skippable_match:\n",
    "\t\t\t\t\tunmatchable_end = skippable_match.start()\n",
    "\t\t\t\tif token_match:\n",
    "\t\t\t\t\tunmatchable_end = min(unmatchable_end, token_match.start())\n",
    "\t\t\t\t# Add it to unmatchable and discard from line.\n",
    "\t\t\t\tunmatchable.append(line[:unmatchable_end])\n",
    "\t\t\t\tline = line[unmatchable_end:]\n",
    "\tprint(tokens)\n",
    "print(\"unmatchable:\",set(unmatchable))\n",
    "\n",
    "\"\"\"\n",
    "DO include the following characters:\n",
    "[*, !, ]\n",
    "\"\"\"\n",
    "\n"
   ]
  }
 ],
 "metadata": {
  "kernelspec": {
   "display_name": "Python 3",
   "language": "python",
   "name": "python3"
  },
  "language_info": {
   "codemirror_mode": {
    "name": "ipython",
    "version": 3
   },
   "file_extension": ".py",
   "mimetype": "text/x-python",
   "name": "python",
   "nbconvert_exporter": "python",
   "pygments_lexer": "ipython3",
   "version": "3.8.3"
  }
 },
 "nbformat": 4,
 "nbformat_minor": 4
}
