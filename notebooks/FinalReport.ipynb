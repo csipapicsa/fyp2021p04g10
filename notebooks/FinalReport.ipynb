{
 "cells": [
  {
   "cell_type": "markdown",
   "metadata": {},
   "source": [
    "# Export packages"
   ]
  },
  {
   "cell_type": "code",
   "execution_count": 48,
   "metadata": {},
   "outputs": [],
   "source": [
    "import nltk\n",
    "import re\n",
    "import difflib\n",
    "from nltk.tokenize import TweetTokenizer\n",
    "import re\n",
    "import difflib\n",
    "from nltk.tokenize import TweetTokenizer\n",
    "import numpy as np\n",
    "import pandas as pd\n",
    "import matplotlib.pyplot as plt\n",
    "import seaborn as sns\n",
    "import random #As of now only used for generating 100 random tweets for manual labelling\n",
    "from collections import Counter\n",
    "from sklearn.pipeline import Pipeline\n",
    "from sklearn.feature_extraction.text import CountVectorizer\n",
    "from sklearn.feature_extraction.text import TfidfTransformer\n",
    "from sklearn.feature_extraction.text import TfidfVectorizer\n",
    "from sklearn.model_selection import train_test_split\n",
    "\n",
    "from sklearn.decomposition import PCA\n",
    "from sklearn.neighbors import LocalOutlierFactor, KNeighborsClassifier\n",
    "from sklearn.model_selection import train_test_split, cross_val_score, cross_val_predict, GridSearchCV\n",
    "from sklearn.tree import DecisionTreeClassifier\n",
    "from sklearn.svm import SVR, SVC\n",
    "from sklearn.neural_network import MLPClassifier\n",
    "from sklearn import linear_model\n",
    "from sklearn.ensemble import RandomForestClassifier, GradientBoostingClassifier\n",
    "from sklearn.naive_bayes import GaussianNB, MultinomialNB\n",
    "from sklearn.discriminant_analysis import LinearDiscriminantAnalysis\n",
    "from sklearn.metrics import confusion_matrix, make_scorer, accuracy_score, classification_report, roc_auc_score, roc_curve, recall_score, precision_score, f1_score\n",
    "from sklearn.linear_model import SGDClassifier\n",
    "from sklearn.feature_extraction.text import CountVectorizer, TfidfTransformer\n",
    "from sklearn.pipeline import Pipeline"
   ]
  },
  {
   "cell_type": "markdown",
   "metadata": {},
   "source": [
    "## Reading data\n",
    "### The Offensive Training Data"
   ]
  },
  {
   "cell_type": "code",
   "execution_count": 2,
   "metadata": {},
   "outputs": [],
   "source": [
    "f = open(\"../data/raw/offensive/train_text.txt\", 'r', encoding = \"utf-8\")\n",
    "inputlist = [line for line in f]\n",
    "f.close()\n",
    "\n",
    "training_data, validation_data = inputlist[:len(inputlist)//2], inputlist[len(inputlist)//2:]"
   ]
  },
  {
   "cell_type": "markdown",
   "metadata": {},
   "source": [
    "## Tokenizer as Function:"
   ]
  },
  {
   "cell_type": "markdown",
   "metadata": {},
   "source": [
    "During the tokenization the code separate the tweets into sentences, which are cleared (emojis, not alphabetic characters are removed). For instance,  instead of \"@user\" it records \"user\". "
   ]
  },
  {
   "cell_type": "code",
   "execution_count": 3,
   "metadata": {},
   "outputs": [],
   "source": [
    "def tokenizer(tweets):\n",
    "    \"\"\"\n",
    "    Function that takes a list of strings and returns the tokenized version of each string\n",
    "    \"\"\"\n",
    "    #counter = 0\n",
    "    #token_pat = re.compile(r'[\\w@’#]+')\n",
    "    token_pat = re.compile(r'\\w+')\n",
    "    skippable_pat = re.compile(r'\\s+')\n",
    "\n",
    "    non_white_space = re.compile(r'[^@’#\\w\\s]') #Finds characters that are not white_space nor word characters (nor @’#)\n",
    "    #print(\"these are the tweets\")\n",
    "    #print(tweets)\n",
    "    \n",
    "    # Initialise lists\n",
    "    tokens = []\n",
    "    unmatchable = []\n",
    "\n",
    "# Compile patterns for speedup\n",
    "    token_pat = re.compile(r'\\w+')\n",
    "\n",
    "    tokenlist = []\n",
    "    for i in tweets:\n",
    "        #counter = counter + 1\n",
    "        #print(counter)\n",
    "        #tokens = []\n",
    "        #unmatchable = []\n",
    "        line = i\n",
    "        #print(\"this is i: \",i)\n",
    "        while line:\n",
    "            #print(\"this is the line\")\n",
    "            #print(line)\n",
    "            skippable_match = re.search(skippable_pat, line)\n",
    "            if skippable_match and skippable_match.start() == 0:\n",
    "                line = line[skippable_match.end():]\n",
    "            else:\n",
    "                token_match = re.search(token_pat, line)\n",
    "                #print(\"tokens_match\")\n",
    "                #print(token_match)\n",
    "                #print(token_match.start())\n",
    "                if token_match and token_match.start() == 0:\n",
    "                    #print(\"\\nAPPEND IS RUNNING\\n\")\n",
    "                    #print(line[:token_match.end()])\n",
    "                    tokens.append(line[:token_match.end()])\n",
    "                    line = line[token_match.end():]\n",
    "                else:\n",
    "                    unmatchable_end = len(line)\n",
    "                    if skippable_match:\n",
    "                        unmatchable_end = skippable_match.start()\n",
    "                    if token_match:\n",
    "                        unmatchable_end = min(unmatchable_end, token_match.start())\n",
    "                    unmatchable.append(line[:unmatchable_end])\n",
    "                    line = line[unmatchable_end:]\n",
    "        tokenlist.append(tokens)\n",
    "        tokens = []\n",
    "    return(tokenlist)"
   ]
  },
  {
   "cell_type": "code",
   "execution_count": 4,
   "metadata": {},
   "outputs": [
    {
     "name": "stdout",
     "output_type": "stream",
     "text": [
      "['user', 'Bono', 'who', 'cares', 'Soon', 'people', 'will', 'understand', 'that', 'they', 'gain', 'nothing', 'from', 'following', 'a', 'phony', 'celebrity', 'Become', 'a', 'Leader', 'of', 'your', 'people', 'instead', 'or', 'help', 'and', 'support', 'your', 'fellow', 'countrymen']\n",
      "['user', 'Eight', 'years', 'the', 'republicans', 'denied', 'obama', 's', 'picks', 'Breitbarters', 'outrage', 'is', 'as', 'phony', 'as', 'their', 'fake', 'president']\n"
     ]
    }
   ],
   "source": [
    "token_tweets = tokenizer(training_data)\n",
    "#print(token_tweets[0])\n",
    "#print(token_tweets[1])\n",
    "#[print(*i) for i in token_tweets]"
   ]
  },
  {
   "cell_type": "code",
   "execution_count": 6,
   "metadata": {},
   "outputs": [],
   "source": [
    "#TweetTokenizer Initialisation\n",
    "tknzr = TweetTokenizer(strip_handles=True, reduce_len=True)\n",
    "j = 0\n",
    "for i in training_data: \n",
    "    temp = i\n",
    "    diff = difflib.context_diff(tknzr.tokenize(i),token_tweets[j])\n",
    "    #print(\"\".join(diff), end = \"\")\n",
    "    #print(i,\"tknzr:\",tknzr.tokenize(i),\"\\ntokenlist:\",token_tweets[j],\"\\n\")\n",
    "    j+=1"
   ]
  },
  {
   "cell_type": "markdown",
   "metadata": {},
   "source": [
    "### Corpus size of Offensive and sentiment training sets respectively:"
   ]
  },
  {
   "cell_type": "code",
   "execution_count": 7,
   "metadata": {},
   "outputs": [
    {
     "name": "stdout",
     "output_type": "stream",
     "text": [
      "  11916  262370 1540990 ../data/raw/offensive/train_text.txt\n",
      "  45615  877516 5015644 ../data/raw/sentiment/train_text.txt\n"
     ]
    }
   ],
   "source": [
    "%%bash\n",
    "wc ../data/raw/offensive/train_text.txt\n",
    "wc ../data/raw/sentiment/train_text.txt"
   ]
  },
  {
   "cell_type": "markdown",
   "metadata": {},
   "source": [
    "<b>Offensive:</b> 11916 lines/tweets, 262370 words <br>\n",
    "<b>Sentiment:</b> 35615 lines/tweets, 877516 words"
   ]
  },
  {
   "cell_type": "markdown",
   "metadata": {},
   "source": [
    "### Running tokenizer function on offensive and sentiment training data to get token count right"
   ]
  },
  {
   "cell_type": "code",
   "execution_count": 8,
   "metadata": {},
   "outputs": [],
   "source": [
    "with open(\"../data/raw/offensive/train_text.txt\", \"r\",  encoding = \"utf-8\",) as f:\n",
    "    offensive_raw = [line for line in f]\n",
    "\n",
    "with open(\"../data/raw/sentiment/train_text.txt\", \"r\",  encoding = \"utf-8\",) as f:\n",
    "    sentiment_raw = [line for line in f]\n"
   ]
  },
  {
   "cell_type": "markdown",
   "metadata": {},
   "source": [
    "<i>Below line takes a time"
   ]
  },
  {
   "cell_type": "code",
   "execution_count": 11,
   "metadata": {},
   "outputs": [],
   "source": [
    "offensive_tokens = tokenizer(offensive_raw)\n",
    "sentiment_tokens = tokenizer(sentiment_raw)"
   ]
  },
  {
   "cell_type": "markdown",
   "metadata": {},
   "source": [
    "Below the top 10 tokens are collected"
   ]
  },
  {
   "cell_type": "code",
   "execution_count": 12,
   "metadata": {},
   "outputs": [
    {
     "name": "stdout",
     "output_type": "stream",
     "text": [
      "Offensive dataset, top 10 tokens: \n",
      " user    29812\n",
      "the      7271\n",
      "is       5656\n",
      "to       5472\n",
      "a        4582\n",
      "and      4106\n",
      "you      3683\n",
      "of       3347\n",
      "are      3076\n",
      "I        3075\n",
      "dtype: int64 \n",
      "\n",
      "Sentiment dataset, top 10 tokens: \n",
      " the     34873\n",
      "to      20673\n",
      "user    16840\n",
      "I       15273\n",
      "in      13130\n",
      "on      12573\n",
      "a       12202\n",
      "and     12015\n",
      "of      10683\n",
      "for      9669\n",
      "dtype: int64\n"
     ]
    }
   ],
   "source": [
    "#from https://stackoverflow.com/questions/45019607/count-occurrence-of-a-list-in-a-list-of-lists\n",
    "off_uniq = pd.Series(offensive_tokens).explode().value_counts()\n",
    "sent_uniq = pd.Series(sentiment_tokens).explode().value_counts()\n",
    "\n",
    "print(\"Offensive dataset, top 10 tokens:\",\"\\n\",off_uniq[:10],\"\\n\")\n",
    "print(\"Sentiment dataset, top 10 tokens:\",\"\\n\",sent_uniq[:10])\n",
    "\n",
    "#Turning above pd.series into dataframes, for ease of use later\n",
    "#Transformation found at:https://stackoverflow.com/questions/40224319/pandas-series-to-dataframe-using-series-indexes-as-columns\n",
    "off_uniq = off_uniq.to_frame().reset_index()\n",
    "sent_uniq = sent_uniq.to_frame().reset_index()\n",
    "\n",
    "#Renaming columns in dataframes\n",
    "off_uniq.columns = [\"token\",\"count\"]\n",
    "sent_uniq.columns = [\"token\",\"count\"]"
   ]
  },
  {
   "cell_type": "markdown",
   "metadata": {},
   "source": [
    "### Tokens and their counts:"
   ]
  },
  {
   "cell_type": "code",
   "execution_count": 31,
   "metadata": {},
   "outputs": [],
   "source": [
    "%%bash\n",
    "tr ' ' '\\n' <../data/interim/tokenized/offensive_tokens.txt | sort | uniq -c | sort -r > ../data/interim/uniq/offensive_uniq.txt\n",
    "tr \" \" \"\\n\" <../data/interim/tokenized/sentiment_tokens.txt | sort | uniq -c | sort -r > ../data/interim/uniq/sentiment_uniq.txt"
   ]
  },
  {
   "cell_type": "markdown",
   "metadata": {},
   "source": [
    "#### The ten most frequent tokens in \"offensive_training\":"
   ]
  },
  {
   "cell_type": "markdown",
   "metadata": {},
   "source": [
    "Through Bash the top tokens are highlighted "
   ]
  },
  {
   "cell_type": "code",
   "execution_count": 32,
   "metadata": {},
   "outputs": [
    {
     "name": "stdout",
     "output_type": "stream",
     "text": [
      "  29578 '@user',\n",
      "  15538 '.',\n",
      "   7271 'the',\n",
      "   5601 'is',\n",
      "   5466 'to',\n",
      "   4580 'a',\n",
      "   4106 'and',\n",
      "   3748 '.'\r\n",
      "   3595 'you',\n",
      "   3520 '\"',\n"
     ]
    }
   ],
   "source": [
    "%%bash\n",
    "head ../data/interim/uniq/offensive_uniq.txt"
   ]
  },
  {
   "cell_type": "markdown",
   "metadata": {},
   "source": [
    "#### The ten most frequent tokens in \"sentiment_training\":"
   ]
  },
  {
   "cell_type": "code",
   "execution_count": 15,
   "metadata": {},
   "outputs": [
    {
     "name": "stdout",
     "output_type": "stream",
     "text": [
      "  51425 '.',\n",
      "  34858 'the',\n",
      "  22327 '\"',\n",
      "  20661 'to',\n",
      "  19345 \"'\",\n",
      "  17707 ',',\n",
      "  15497 '@user',\n",
      "  15270 'I',\n",
      "  13339 '!',\n",
      "  13113 'in',\n"
     ]
    }
   ],
   "source": [
    "%%bash\n",
    "head ../data/interim/uniq/sentiment_uniq.txt"
   ]
  },
  {
   "cell_type": "markdown",
   "metadata": {},
   "source": [
    "### type/token ratio"
   ]
  },
  {
   "cell_type": "code",
   "execution_count": 35,
   "metadata": {},
   "outputs": [
    {
     "name": "stdout",
     "output_type": "stream",
     "text": [
      "Offensive Types: 22915\n",
      "Sentiment types: 55959\n",
      "\n",
      "Offensive tokens, amount: 267520\n",
      "Sentiment tokens, amount: 906399\n",
      "\n",
      "Offensive type/token ratio: 0.0857\n",
      "Sentiment type/token ratio: 0.0617\n"
     ]
    }
   ],
   "source": [
    "#Types == Amount of different Tokens in dataset\n",
    "off_types = len(off_uniq[\"token\"])\n",
    "sent_types = len(sent_uniq[\"token\"])\n",
    "print(\"Offensive Types: {}\\nSentiment types: {}\\n\".format(off_types,sent_types))\n",
    "\n",
    "#Tokens == Amount of all \"Words\" in dataset\n",
    "off_token_amount = off_uniq[\"count\"].sum()\n",
    "sent_token_amount = sent_uniq[\"count\"].sum()\n",
    "print(\"Offensive tokens, amount: {}\\nSentiment tokens, amount: {}\\n\".format(off_token_amount, sent_token_amount))\n",
    "\n",
    "#Type/token ratio (=ttratio)\n",
    "off_ttratio = off_types/off_token_amount\n",
    "sent_ttratio = sent_types/sent_token_amount\n",
    "print(\"Offensive type/token ratio: {:.4f}\\nSentiment type/token ratio: {:.4f}\".format(off_ttratio, sent_ttratio))"
   ]
  },
  {
   "cell_type": "markdown",
   "metadata": {},
   "source": [
    "#### Tokens that only occur 1, 2 or 3 times\n",
    "<ul>\n",
    "    <li>Things like Hashtags and emojis are prevalent, but they, more importantly, contain most of the types/vocabulary</li>\n",
    "    <li>Tokens that occur only once make up 58% of the types in both datasets!</li>\n",
    "</ul>"
   ]
  },
  {
   "cell_type": "code",
   "execution_count": 36,
   "metadata": {},
   "outputs": [
    {
     "name": "stdout",
     "output_type": "stream",
     "text": [
      "Offensive types w. freq. 1 divided by total types: 56.13\n",
      "Sentiment types w. freq. 1 divided by total types: 56.32\n"
     ]
    }
   ],
   "source": [
    "print(\"Offensive types w. freq. 1 divided by total types: {:.2f}\".format(len(off_uniq.loc[off_uniq[\"count\"]==1])/off_types*100))\n",
    "print(\"Sentiment types w. freq. 1 divided by total types: {:.2f}\".format(len(sent_uniq.loc[sent_uniq[\"count\"]==1])/sent_types*100))"
   ]
  },
  {
   "cell_type": "markdown",
   "metadata": {},
   "source": [
    "Amount of types showing up x times in the offensive dataset (e.g 14000 tokens only showing up once, and so on)\n",
    "500 Most common tokens skipped, to make plot visible"
   ]
  },
  {
   "cell_type": "code",
   "execution_count": 37,
   "metadata": {},
   "outputs": [
    {
     "data": {
      "image/png": "[encoded data removed]",
      "text/plain": [
       "<Figure size 1152x648 with 1 Axes>"
      ]
     },
     "metadata": {},
     "output_type": "display_data"
    }
   ],
   "source": [
    "fig, ax = plt.subplots(figsize=(16,9))\n",
    "sns.countplot(x=\"count\", data=off_uniq[500:]) #Sns counts the type frequency of each word, and plots it\n",
    "sns.set_style(\"darkgrid\")\n",
    "ax.tick_params('x',rotation=45, labelsize = 10) #xlabels are rotated 45 degrees and made bigger"
   ]
  },
  {
   "cell_type": "markdown",
   "metadata": {},
   "source": [
    "### Noticable difference in the two datasets"
   ]
  },
  {
   "cell_type": "markdown",
   "metadata": {},
   "source": [
    "<ul>\n",
    "    <li>Big difference in size, sentiment dataset over twice the amount of tokens (=library twice the size)</li>\n",
    "    <li>otherwise quite similar, in both sets the percentage of the vocabulary made up of tokens w. frq. 1 is 58%</li>\n",
    "    <ul><li>Both datasets also seem to follow Zipf's law (see below graphs)</li>\n",
    "    </ul>\n",
    "</ul>\n",
    "    "
   ]
  },
  {
   "cell_type": "markdown",
   "metadata": {},
   "source": [
    "### Corpus Statistics Consistent with Zipf's law?"
   ]
  },
  {
   "cell_type": "markdown",
   "metadata": {},
   "source": [
    "Log-log plot of the rank of token frequency against against the frequency in the offensive dataset"
   ]
  },
  {
   "cell_type": "code",
   "execution_count": 38,
   "metadata": {},
   "outputs": [
    {
     "data": {
      "image/png": "[encoded data removed]",
      "text/plain": [
       "<Figure size 360x360 with 1 Axes>"
      ]
     },
     "metadata": {},
     "output_type": "display_data"
    }
   ],
   "source": [
    "off_uniq[\"log_frq\"] = np.log(off_uniq[\"count\"])\n",
    "off_uniq[\"log_rank\"] = np.log(off_uniq[\"count\"].rank(ascending=False))\n",
    "sns.relplot(x=\"log_rank\",y=\"log_frq\", data=off_uniq, color=\"red\", edgecolor=(0.2,0,0,0.01)).set(title=\n",
    "                \"log-log plot of frequency against rank of frequency in Offensive dataset\")\n",
    "plt.show()"
   ]
  },
  {
   "cell_type": "code",
   "execution_count": 39,
   "metadata": {},
   "outputs": [
    {
     "data": {
      "image/png": "[encoded data removed]",
      "text/plain": [
       "<Figure size 360x360 with 1 Axes>"
      ]
     },
     "metadata": {},
     "output_type": "display_data"
    }
   ],
   "source": [
    "sent_uniq[\"log_frq\"] = np.log(sent_uniq[\"count\"])\n",
    "sent_uniq[\"log_rank\"] = np.log(sent_uniq[\"count\"].rank(ascending=False))\n",
    "sns.relplot(x=\"log_rank\",y=\"log_frq\", data=sent_uniq, color=\"r\", edgecolor=(0.2,0,0,0.01)).set(title=\n",
    "                \"log-log plot of frequency against rank of frequency in Sentiment dataset\")\n",
    "plt.show()"
   ]
  },
  {
   "cell_type": "markdown",
   "metadata": {},
   "source": [
    "<b>As seen in the above plots, both datasets seem consistent with Zipf's law</b>"
   ]
  },
  {
   "cell_type": "markdown",
   "metadata": {},
   "source": [
    "## Task 3: Manual Annotation & Inter-user Agreement"
   ]
  },
  {
   "cell_type": "markdown",
   "metadata": {},
   "source": [
    "### Generating 100 random tweets for manual annotation"
   ]
  },
  {
   "cell_type": "code",
   "execution_count": 40,
   "metadata": {},
   "outputs": [],
   "source": [
    "random.seed(42) #Seeded for consistency\n",
    "random_tweets = random.sample(list(enumerate(sentiment_raw)),100)\n",
    "rtweet_index = [i[0] for i in random_tweets]\n",
    "\n",
    "# #File-generation is commented out, as the randomness is seeded, thus Making the same \"Random\" file every time\n",
    "# with open(\"../data/interim/random_tweets.txt\",\"w\", encoding=\"utf-8\") as f:\n",
    "#     [f.write(str(i[1])+\"\\n\") for i in random_tweets]"
   ]
  },
  {
   "cell_type": "code",
   "execution_count": 41,
   "metadata": {},
   "outputs": [],
   "source": [
    "sent_label = pd.read_csv('../data/raw/sentiment/train_labels.txt',header=None)\n",
    "sent_raw = pd.read_csv(\"../data/raw/sentiment/train_text.txt\",header=None, sep=\"\\n\",quoting=3)"
   ]
  },
  {
   "cell_type": "markdown",
   "metadata": {},
   "source": [
    "### Putting the manually annotated labels into a single dataframe"
   ]
  },
  {
   "cell_type": "code",
   "execution_count": 43,
   "metadata": {},
   "outputs": [
    {
     "data": {
      "text/html": [
       "<div>\n",
       "<style scoped>\n",
       "    .dataframe tbody tr th:only-of-type {\n",
       "        vertical-align: middle;\n",
       "    }\n",
       "\n",
       "    .dataframe tbody tr th {\n",
       "        vertical-align: top;\n",
       "    }\n",
       "\n",
       "    .dataframe thead th {\n",
       "        text-align: right;\n",
       "    }\n",
       "</style>\n",
       "<table border=\"1\" class=\"dataframe\">\n",
       "  <thead>\n",
       "    <tr style=\"text-align: right;\">\n",
       "      <th></th>\n",
       "      <th>anno_1</th>\n",
       "      <th>anno_2</th>\n",
       "      <th>anno_3</th>\n",
       "      <th>anno_4</th>\n",
       "    </tr>\n",
       "  </thead>\n",
       "  <tbody>\n",
       "    <tr>\n",
       "      <th>0</th>\n",
       "      <td>1</td>\n",
       "      <td>1</td>\n",
       "      <td>1</td>\n",
       "      <td>1</td>\n",
       "    </tr>\n",
       "    <tr>\n",
       "      <th>1</th>\n",
       "      <td>2</td>\n",
       "      <td>1</td>\n",
       "      <td>1</td>\n",
       "      <td>1</td>\n",
       "    </tr>\n",
       "    <tr>\n",
       "      <th>2</th>\n",
       "      <td>2</td>\n",
       "      <td>2</td>\n",
       "      <td>2</td>\n",
       "      <td>2</td>\n",
       "    </tr>\n",
       "    <tr>\n",
       "      <th>3</th>\n",
       "      <td>0</td>\n",
       "      <td>0</td>\n",
       "      <td>0</td>\n",
       "      <td>0</td>\n",
       "    </tr>\n",
       "    <tr>\n",
       "      <th>4</th>\n",
       "      <td>0</td>\n",
       "      <td>1</td>\n",
       "      <td>2</td>\n",
       "      <td>2</td>\n",
       "    </tr>\n",
       "    <tr>\n",
       "      <th>...</th>\n",
       "      <td>...</td>\n",
       "      <td>...</td>\n",
       "      <td>...</td>\n",
       "      <td>...</td>\n",
       "    </tr>\n",
       "    <tr>\n",
       "      <th>95</th>\n",
       "      <td>0</td>\n",
       "      <td>2</td>\n",
       "      <td>2</td>\n",
       "      <td>0</td>\n",
       "    </tr>\n",
       "    <tr>\n",
       "      <th>96</th>\n",
       "      <td>0</td>\n",
       "      <td>2</td>\n",
       "      <td>2</td>\n",
       "      <td>2</td>\n",
       "    </tr>\n",
       "    <tr>\n",
       "      <th>97</th>\n",
       "      <td>1</td>\n",
       "      <td>1</td>\n",
       "      <td>2</td>\n",
       "      <td>1</td>\n",
       "    </tr>\n",
       "    <tr>\n",
       "      <th>98</th>\n",
       "      <td>1</td>\n",
       "      <td>1</td>\n",
       "      <td>1</td>\n",
       "      <td>1</td>\n",
       "    </tr>\n",
       "    <tr>\n",
       "      <th>99</th>\n",
       "      <td>1</td>\n",
       "      <td>0</td>\n",
       "      <td>1</td>\n",
       "      <td>1</td>\n",
       "    </tr>\n",
       "  </tbody>\n",
       "</table>\n",
       "<p>100 rows × 4 columns</p>\n",
       "</div>"
      ],
      "text/plain": [
       "    anno_1  anno_2  anno_3  anno_4\n",
       "0        1       1       1       1\n",
       "1        2       1       1       1\n",
       "2        2       2       2       2\n",
       "3        0       0       0       0\n",
       "4        0       1       2       2\n",
       "..     ...     ...     ...     ...\n",
       "95       0       2       2       0\n",
       "96       0       2       2       2\n",
       "97       1       1       2       1\n",
       "98       1       1       1       1\n",
       "99       1       0       1       1\n",
       "\n",
       "[100 rows x 4 columns]"
      ]
     },
     "metadata": {},
     "output_type": "display_data"
    },
    {
     "data": {
      "text/plain": [
       "0      True\n",
       "1     False\n",
       "2      True\n",
       "3      True\n",
       "4     False\n",
       "      ...  \n",
       "95    False\n",
       "96    False\n",
       "97    False\n",
       "98     True\n",
       "99    False\n",
       "Length: 100, dtype: bool"
      ]
     },
     "metadata": {},
     "output_type": "display_data"
    },
    {
     "name": "stdout",
     "output_type": "stream",
     "text": [
      "# of equal labels: 34\n",
      "observed agreement: 0.34\n"
     ]
    }
   ],
   "source": [
    "man_labels = pd.read_csv(\"../data/interim/manual_annotation/all_combined.csv\", delimiter=\",\") #All manual labels\n",
    "man_labels = man_labels.iloc[:,:-1] #Not using the _A0_value column from the file\n",
    "display(man_labels) #The manually annotated labels, put into a dataframe\n",
    "\n",
    "same_label = man_labels.eq(man_labels.iloc[:,0], axis=0).all(1) #Finding where all annotators agree on a label\n",
    "display(same_label)\n",
    "print(\"# of equal labels:\",np.sum(same_label))\n",
    "obs_agreement = np.sum(same_label)/len(man_labels.iloc[:,0])\n",
    "print(\"observed agreement:\",obs_agreement)"
   ]
  },
  {
   "cell_type": "markdown",
   "metadata": {},
   "source": [
    "### Calculating Chance-corrected agreement"
   ]
  },
  {
   "cell_type": "code",
   "execution_count": 24,
   "metadata": {},
   "outputs": [
    {
     "name": "stdout",
     "output_type": "stream",
     "text": [
      "lenght of formatted_answers: 400\n",
      "length of all_formatted: 500\n"
     ]
    }
   ],
   "source": [
    "#Formatting manual label answers to calculate Scott's pi, Fleiss' kappa with nltk.agreement\n",
    "tweets_len = len(man_labels.iloc[:,0])\n",
    "formatted_answers = [] #Formatting of only the manually annotated data\n",
    "for column in range(len(man_labels.columns)):\n",
    "    for tweet_num in range(tweets_len):\n",
    "        formatted_answers.append([column+1,tweet_num,man_labels.iloc[tweet_num,column]])\n",
    "\n",
    "#adding the \"True\" labels to all_formatted:\n",
    "all_formatted = formatted_answers.copy() #Formatting of BOTH the manually annotated data AND the \"True\" Annotation of the data\n",
    "true_label_list = list(sent_label.iloc[rtweet_index][0])\n",
    "for i in range(tweets_len):\n",
    "    all_formatted.append([len(man_labels.columns)+1,i,true_label_list[i]])\n",
    "    \n",
    "print(\"lenght of formatted_answers:\",len(formatted_answers))\n",
    "print(\"length of all_formatted:\",len(all_formatted)) #should be 100 characters longer than the above"
   ]
  },
  {
   "cell_type": "markdown",
   "metadata": {},
   "source": [
    "#### Chance-corrected for just the manual labels"
   ]
  },
  {
   "cell_type": "markdown",
   "metadata": {},
   "source": [
    "The inter-annotator agreement values are almost 0.4, which can be decided as fair or moderate"
   ]
  },
  {
   "cell_type": "code",
   "execution_count": 25,
   "metadata": {},
   "outputs": [
    {
     "name": "stdout",
     "output_type": "stream",
     "text": [
      "Scott's pi: 0.3962\n",
      "Cohen's kappa: 0.3950\n",
      "Fleiss' kappa: 0.3968\n"
     ]
    }
   ],
   "source": [
    "\"\"\"\n",
    "Note that in the nltk.agreement documentation: https://www.nltk.org/_modules/nltk/metrics/agreement.html\n",
    "the returned value is the chance-corrected agreement, not just A_e.\n",
    "\"\"\"\n",
    "ratingtask = agreement.AnnotationTask(data=formatted_answers)\n",
    "print(\"Scott's pi: {:.4f}\\nCohen's kappa: {:.4f}\\nFleiss' kappa: {:.4f}\".format(ratingtask.pi(),ratingtask.kappa(),ratingtask.multi_kappa()))\n"
   ]
  },
  {
   "cell_type": "markdown",
   "metadata": {},
   "source": [
    "#### Chance-corrected for both the manual labels AND the \"true\" labels"
   ]
  },
  {
   "cell_type": "code",
   "execution_count": 26,
   "metadata": {},
   "outputs": [
    {
     "name": "stdout",
     "output_type": "stream",
     "text": [
      "Scott's pi: 0.3911\n",
      "Cohen's kappa: 0.3905\n",
      "Fleiss' kappa: 0.3918\n"
     ]
    }
   ],
   "source": [
    "all_label_rating = agreement.AnnotationTask(data=all_formatted)\n",
    "print(\"Scott's pi: {:.4f}\\nCohen's kappa: {:.4f}\\nFleiss' kappa: {:.4f}\".format(all_label_rating.pi(),all_label_rating.kappa(),all_label_rating.multi_kappa()))\n"
   ]
  },
  {
   "cell_type": "markdown",
   "metadata": {},
   "source": [
    "### Showing the tweets with agreeing/disagreeing manual labels for later discussion, saved to file"
   ]
  },
  {
   "cell_type": "code",
   "execution_count": 27,
   "metadata": {},
   "outputs": [
    {
     "data": {
      "text/html": [
       "<div>\n",
       "<style scoped>\n",
       "    .dataframe tbody tr th:only-of-type {\n",
       "        vertical-align: middle;\n",
       "    }\n",
       "\n",
       "    .dataframe tbody tr th {\n",
       "        vertical-align: top;\n",
       "    }\n",
       "\n",
       "    .dataframe thead th {\n",
       "        text-align: right;\n",
       "    }\n",
       "</style>\n",
       "<table border=\"1\" class=\"dataframe\">\n",
       "  <thead>\n",
       "    <tr style=\"text-align: right;\">\n",
       "      <th></th>\n",
       "      <th>0</th>\n",
       "    </tr>\n",
       "  </thead>\n",
       "  <tbody>\n",
       "    <tr>\n",
       "      <th>7296</th>\n",
       "      <td>Convenient location to the Georgia Dome: This ...</td>\n",
       "    </tr>\n",
       "    <tr>\n",
       "      <th>16049</th>\n",
       "      <td>In bed in Plymouth hotel for the last night of...</td>\n",
       "    </tr>\n",
       "    <tr>\n",
       "      <th>14628</th>\n",
       "      <td>Former Florida Gov. Jeb Bush said Thursday tha...</td>\n",
       "    </tr>\n",
       "    <tr>\n",
       "      <th>6717</th>\n",
       "      <td>Exciting weekend. Kitchen being fitted today F...</td>\n",
       "    </tr>\n",
       "    <tr>\n",
       "      <th>44348</th>\n",
       "      <td>Will the PM stand by and watch his colleagues ...</td>\n",
       "    </tr>\n",
       "    <tr>\n",
       "      <th>35741</th>\n",
       "      <td>@user take Niall's guitar and play on stage at...</td>\n",
       "    </tr>\n",
       "    <tr>\n",
       "      <th>5697</th>\n",
       "      <td>When you're sick of waiting for a book to come...</td>\n",
       "    </tr>\n",
       "    <tr>\n",
       "      <th>27651</th>\n",
       "      <td>\"12 Ways June Squibb Is the New Jennifer Lawre...</td>\n",
       "    </tr>\n",
       "    <tr>\n",
       "      <th>2082</th>\n",
       "      <td>i want Michelle Obama to be president with Mic...</td>\n",
       "    </tr>\n",
       "    <tr>\n",
       "      <th>1952</th>\n",
       "      <td>@user @user As far as I know Rick Perry hasn't...</td>\n",
       "    </tr>\n",
       "  </tbody>\n",
       "</table>\n",
       "</div>"
      ],
      "text/plain": [
       "                                                       0\n",
       "7296   Convenient location to the Georgia Dome: This ...\n",
       "16049  In bed in Plymouth hotel for the last night of...\n",
       "14628  Former Florida Gov. Jeb Bush said Thursday tha...\n",
       "6717   Exciting weekend. Kitchen being fitted today F...\n",
       "44348  Will the PM stand by and watch his colleagues ...\n",
       "35741  @user take Niall's guitar and play on stage at...\n",
       "5697   When you're sick of waiting for a book to come...\n",
       "27651  \"12 Ways June Squibb Is the New Jennifer Lawre...\n",
       "2082   i want Michelle Obama to be president with Mic...\n",
       "1952   @user @user As far as I know Rick Perry hasn't..."
      ]
     },
     "metadata": {},
     "output_type": "display_data"
    },
    {
     "data": {
      "text/plain": [
       "0     1\n",
       "2     2\n",
       "3     0\n",
       "6     2\n",
       "11    1\n",
       "15    1\n",
       "16    2\n",
       "18    2\n",
       "19    1\n",
       "20    2\n",
       "Name: anno_1, dtype: int64"
      ]
     },
     "execution_count": 27,
     "metadata": {},
     "output_type": "execute_result"
    }
   ],
   "source": [
    "same_label[same_label==False]\n",
    "manual_tweets = sent_raw.loc[rtweet_index]\n",
    "\n",
    "#tweets labels disagree on\n",
    "annotation_disagree = manual_tweets.iloc[np.where(same_label==False)]\n",
    "display(annotation_disagree[:10])#Showing the 10 first tweets with disagreeing manual annotation\n",
    "\n",
    "#tweets labels agree on\n",
    "annotation_agree = manual_tweets.iloc[np.where(same_label==True)]\n",
    "\n",
    "# File creation commented out\n",
    "# annotation_disagree.to_csv(\"../data/interim/man_anno_disagree.txt\", header=None, index=False)\n",
    "# annotation_agree.to_csv(\"../data/interim/man_anno_agree.txt\", header=None, index=False)\n",
    "\n",
    "man_labels[same_label==True][\"anno_1\"][:10]"
   ]
  },
  {
   "cell_type": "markdown",
   "metadata": {},
   "source": [
    "# Calculating the Observed Agreement result of the manual annotation"
   ]
  },
  {
   "cell_type": "markdown",
   "metadata": {},
   "source": [
    "During the manual annotation we found in case:\n",
    "- Only 34% of the cases we totally agreed 34% \n",
    "- 43% of the cases one of us had different opinion\n",
    "- 23% of the cases (this means 0.5 Observed Agreement result) we couldn't decide obviously the sentiment of the sentence"
   ]
  },
  {
   "cell_type": "code",
   "execution_count": 44,
   "metadata": {
    "scrolled": false
   },
   "outputs": [
    {
     "data": {
      "text/plain": [
       "Text(0.5, 1.0, 'Observed Agreement results of manual annotation')"
      ]
     },
     "execution_count": 44,
     "metadata": {},
     "output_type": "execute_result"
    },
    {
     "data": {
      "image/png": "[encoded data removed]",
      "text/plain": [
       "<Figure size 432x288 with 1 Axes>"
      ]
     },
     "metadata": {},
     "output_type": "display_data"
    }
   ],
   "source": [
    "# hide errors\n",
    "pd.options.mode.chained_assignment = None\n",
    "\n",
    "man_labels.reset_index()\n",
    "man_labels[\"AO\"] = 1.1\n",
    "for i in range(len(man_labels)):\n",
    "    l = []\n",
    "    rowData = man_labels.loc[ i , : ]\n",
    "    l.append(rowData[0])\n",
    "    l.append(rowData[1])\n",
    "    l.append(rowData[2])\n",
    "    l.append(rowData[3])\n",
    "    occurence_count = Counter(l)\n",
    "    same_counter = occurence_count.most_common(1)[0][1]\n",
    "    res=occurence_count.most_common(1)[0][0]\n",
    "    ao = same_counter/4\n",
    "    #print(ao)\n",
    "    man_labels[\"AO\"][i] = ao\n",
    "    #print(\"Variance of sample set is % s\"  %(statistics.variance(l)),\"AO number is : \", ao, \"winner is :\", res)\n",
    "    None\n",
    "\n",
    "plt.hist(man_labels[\"AO\"], label='linear', bins=3)\n",
    "plt.title('Observed Agreement results of manual annotation')"
   ]
  },
  {
   "cell_type": "code",
   "execution_count": null,
   "metadata": {},
   "outputs": [],
   "source": []
  }
 ],
 "metadata": {
  "kernelspec": {
   "display_name": "Python 3",
   "language": "python",
   "name": "python3"
  },
  "language_info": {
   "codemirror_mode": {
    "name": "ipython",
    "version": 3
   },
   "file_extension": ".py",
   "mimetype": "text/x-python",
   "name": "python",
   "nbconvert_exporter": "python",
   "pygments_lexer": "ipython3",
   "version": "3.8.3"
  }
 },
 "nbformat": 4,
 "nbformat_minor": 4
}
